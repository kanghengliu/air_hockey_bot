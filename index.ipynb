{
  "cells": [
    {
      "cell_type": "markdown",
      "metadata": {},
      "source": [
        "---\n",
        "title: \"Introduction\"\n",
        "format: \n",
        "    html: \n",
        "        embed-resources: true\n",
        "bibliography: ./reference.bib\n",
        "---"
      ]
    },
    {
      "cell_type": "markdown",
      "metadata": {},
      "source": [
        "## Why Is It Important\n",
        "When, how, and where to purchase a home is one of the largest decisions most people will ever make. Owning a home comes with many benefits: happiness, freedom, and better outcomes for our children and community. [-@yun2016social] Almost twenty five percent of young people, ages 20-30, chance residences a year. This give them multiple opportunities to decide if they should purchase a home or rent. I hope to provide information to make these decisions easier for people able to purchase a home and possible influences on the market that can be corrected through legislation or other government actions.\n",
        "\n",
        "![](./images/Mover.png)[-@yun2016social]\n",
        "\n",
        "### Social Benefits of Homeownership and Stable Housing\n",
        "Ph.D. Lawrence Yun and Nadia Evangelou show the benefits of owning a home. The benefits include individual autonomy, accumulation of wealth and social status, and a number of positive social, economic, family, and civic outcomes. Home ownership increases educational performance of children and improves health care outcomes. Home owners are happier for realizing the American dream. [-@yun2016social] \n",
        "\n",
        "### Do short-term rental platforms affect housing markets? Evidence from Airbnb in Barcelona\n",
        "Miquel-Àngel Garcia-López, Jordi Jofre-Monseny, Rodrigo Martínez-Mazza, and Mariona Segú where able to show that Airbnb activity in Barcelona led to an increase in both rents and housing prices. They were able to gather data from Airbnb's website, Catalan Tax Authority, the real estate portal Idealista, and Google Trends searches to build models that enable them to find rents, transaction prices, and posted prices all rose as a result of Airbnb. [-@garcia2020short]\n",
        "\n",
        "\n",
        "### Questions I hope to answer\n",
        "- How has home affordability changed over time?\n",
        "  - Across the country as a whole\n",
        "  - How do specific markets compare to national average?\n",
        "- Should you rent or buy?\n",
        "- Should you sell a property to purchase another?\n",
        "- How have short term rentals effected affordability? \n",
        "- Home affordability in the future?\n",
        "- Should you sell a home or rent it out?\n",
        "- How has interest rates effected home ownership\n",
        "- Where should you buy?"
      ]
    }
  ],
  "metadata": {
    "kernelspec": {
      "display_name": "Python 3",
      "language": "python",
      "name": "python3"
    },
    "language_info": {
      "name": "python",
      "version": "3.10.9"
    }
  },
  "nbformat": 4,
  "nbformat_minor": 4
}
